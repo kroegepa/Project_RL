{
 "cells": [
  {
   "cell_type": "code",
   "execution_count": 6,
   "metadata": {},
   "outputs": [
    {
     "name": "stdout",
     "output_type": "stream",
     "text": [
      "[(1, 'a', 10), (2, 'b', 20), (3, 'c', 30)]\n"
     ]
    }
   ],
   "source": [
    "states = [[1,2,3], ['a', 'b', 'c'], [10, 20, 30]]\n",
    "\n",
    "a_l = []\n",
    "b_l = []\n",
    "c_l = []\n",
    "\n",
    "print(list(zip(*states)))\n"
   ]
  },
  {
   "cell_type": "code",
   "execution_count": 5,
   "metadata": {},
   "outputs": [
    {
     "name": "stdout",
     "output_type": "stream",
     "text": [
      "[[4.31300000e+01 2.20000000e+01 7.29000000e+02 9.00000000e+01\n",
      "  1.00000000e+00 3.74904348e+01 2.35714286e+00]\n",
      " [4.66200000e+01 2.30000000e+01 7.29000000e+02 1.00000000e+02\n",
      "  1.00000000e+00 3.77040373e+01 2.35714286e+00]\n",
      " [4.11500000e+01 2.40000000e+01 7.29000000e+02 1.10000000e+02\n",
      "  0.00000000e+00 3.78794410e+01 3.00000000e-01]]\n"
     ]
    }
   ],
   "source": [
    "import numpy as np\n",
    "\n",
    "data = np.loadtxt(\"Project_RL/tab_q_val_trajectory.csv\", delimiter=\",\", skiprows=1)\n",
    "print(data[-3:None])"
   ]
  },
  {
   "cell_type": "code",
   "execution_count": 6,
   "metadata": {},
   "outputs": [
    {
     "name": "stdout",
     "output_type": "stream",
     "text": [
      "{1: 50, 2: 60, 3: 70, 4: 80, 5: 90, 6: 100, 7: 110, 8: 120, 9: 130, 10: 140, 11: 150, 12: 160, 13: 170, 14: 170, 15: 170, 16: 170, 17: 170, 18: 170, 19: 170, 20: 170, 21: 170, 22: 170, 23: 170, 24: 170}\n"
     ]
    }
   ],
   "source": [
    "l = {k: 40 + (k*10) for k in range(1, 14)}\n",
    "p = {k: 170 for k in range(14, 25)}\n",
    "n = l | p\n",
    "print(n)"
   ]
  },
  {
   "cell_type": "code",
   "execution_count": null,
   "metadata": {},
   "outputs": [],
   "source": []
  }
 ],
 "metadata": {
  "kernelspec": {
   "display_name": "rl_env",
   "language": "python",
   "name": "python3"
  },
  "language_info": {
   "codemirror_mode": {
    "name": "ipython",
    "version": 3
   },
   "file_extension": ".py",
   "mimetype": "text/x-python",
   "name": "python",
   "nbconvert_exporter": "python",
   "pygments_lexer": "ipython3",
   "version": "3.13.1"
  }
 },
 "nbformat": 4,
 "nbformat_minor": 2
}
