{
 "cells": [
  {
   "cell_type": "code",
   "execution_count": 6,
   "metadata": {},
   "outputs": [
    {
     "name": "stdout",
     "output_type": "stream",
     "text": [
      "[(1, 'a', 10), (2, 'b', 20), (3, 'c', 30)]\n"
     ]
    }
   ],
   "source": [
    "states = [[1,2,3], ['a', 'b', 'c'], [10, 20, 30]]\n",
    "\n",
    "a_l = []\n",
    "b_l = []\n",
    "c_l = []\n",
    "\n",
    "print(list(zip(*states)))\n"
   ]
  },
  {
   "cell_type": "code",
   "execution_count": 8,
   "metadata": {},
   "outputs": [
    {
     "name": "stdout",
     "output_type": "stream",
     "text": [
      "[[4.31300000e+01 2.20000000e+01 7.29000000e+02 1.30000000e+02\n",
      "  1.00000000e+00 2.86825466e+01]\n",
      " [4.66200000e+01 2.30000000e+01 7.29000000e+02 1.40000000e+02\n",
      "  5.00000000e-01 2.86825466e+01]\n",
      " [4.11500000e+01 2.40000000e+01 7.29000000e+02 1.45000000e+02\n",
      "  1.00000000e+00 2.86825466e+01]]\n"
     ]
    }
   ],
   "source": [
    "import numpy as np\n",
    "\n",
    "data = np.loadtxt(\"Project_RL/tab_q_val_trajectory.csv\", delimiter=\",\", skiprows=1)\n",
    "print(data[-3:None])"
   ]
  },
  {
   "cell_type": "code",
   "execution_count": null,
   "metadata": {},
   "outputs": [],
   "source": []
  }
 ],
 "metadata": {
  "kernelspec": {
   "display_name": "rl_env",
   "language": "python",
   "name": "python3"
  },
  "language_info": {
   "codemirror_mode": {
    "name": "ipython",
    "version": 3
   },
   "file_extension": ".py",
   "mimetype": "text/x-python",
   "name": "python",
   "nbconvert_exporter": "python",
   "pygments_lexer": "ipython3",
   "version": "3.13.1"
  }
 },
 "nbformat": 4,
 "nbformat_minor": 2
}
