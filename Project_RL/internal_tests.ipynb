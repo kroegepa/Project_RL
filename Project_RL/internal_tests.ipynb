{
 "cells": [
  {
   "cell_type": "code",
   "execution_count": 13,
   "metadata": {},
   "outputs": [
    {
     "name": "stdout",
     "output_type": "stream",
     "text": [
      "<class 'numpy.ndarray'>\n"
     ]
    }
   ],
   "source": [
    "import env\n",
    "import actor\n",
    "import matplotlib.pyplot as plt\n",
    "import env\n",
    "\n",
    "path_to_data = 'train.xlsx'\n",
    "moving_avg_actor = actor.MovingAverageActor(path_to_data)\n",
    "environment = env.DataCenterEnv(path_to_data)\n",
    "\n",
    "def plot_price_and_moving_avg(day, moving_avg, price):\n",
    "    \"\"\"\n",
    "    Plot price and moving average against day.\n",
    "    \n",
    "    :param day: List or array-like, representing days (x-axis).\n",
    "    :param moving_avg: List or array-like, representing moving average values (y-axis).\n",
    "    :param price: List or array-like, representing price values (y-axis).\n",
    "    \"\"\"\n",
    "    plt.figure(figsize=(10, 6))\n",
    "    \n",
    "    # Plot price as dots\n",
    "    plt.scatter(day, price, color='blue', label='Price', alpha=0.7)\n",
    "    \n",
    "    # Plot moving average as a line\n",
    "    plt.plot(day, moving_avg, color='red', label='Moving Average', linewidth=2)\n",
    "    \n",
    "    # Add labels and title\n",
    "    plt.xlabel('Day')\n",
    "    plt.ylabel('Value')\n",
    "    plt.title('Price and Moving Average')\n",
    "    plt.legend()\n",
    "    \n",
    "    # Show grid and plot\n",
    "    plt.grid(alpha=0.3)\n",
    "\n",
    "\n",
    "print(type(moving_avg_actor.price_values))\n",
    "\n",
    "test = False\n",
    "if test:\n",
    "    days = [i for i in range(7)]\n",
    "    for day in days:\n",
    "        state = environment.observation()\n",
    "        data = moving_avg_actor.act(state)\n",
    "        avg, price = data\n",
    "        plot_price_and_moving_avg(day, avg, price)\n",
    "        environment.step()\n",
    "\n",
    "    plt.show()\n",
    "\n",
    "\n"
   ]
  }
 ],
 "metadata": {
  "kernelspec": {
   "display_name": "projectrl",
   "language": "python",
   "name": "python3"
  },
  "language_info": {
   "codemirror_mode": {
    "name": "ipython",
    "version": 3
   },
   "file_extension": ".py",
   "mimetype": "text/x-python",
   "name": "python",
   "nbconvert_exporter": "python",
   "pygments_lexer": "ipython3",
   "version": "3.9.21"
  }
 },
 "nbformat": 4,
 "nbformat_minor": 2
}
