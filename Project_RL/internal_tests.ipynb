{
 "cells": [
  {
   "cell_type": "code",
   "execution_count": null,
   "metadata": {},
   "outputs": [],
   "source": [
    "import env\n",
    "import actor\n",
    "import matplotlib.pyplot as plt\n",
    "\n",
    "path_to_data = 'train.xlsx'\n",
    "moving_avg_actor = actor.MovingAverageActor(path_to_data)\n",
    "\n",
    "\n",
    "def plot_price_and_moving_avg(day, moving_avg, price):\n",
    "    \"\"\"\n",
    "    Plot price and moving average against day.\n",
    "    \n",
    "    :param day: List or array-like, representing days (x-axis).\n",
    "    :param moving_avg: List or array-like, representing moving average values (y-axis).\n",
    "    :param price: List or array-like, representing price values (y-axis).\n",
    "    \"\"\"\n",
    "    plt.figure(figsize=(10, 6))\n",
    "    \n",
    "    # Plot price as dots\n",
    "    plt.scatter(day, price, color='blue', label='Price', alpha=0.7)\n",
    "    \n",
    "    # Plot moving average as a line\n",
    "    plt.plot(day, moving_avg, color='red', label='Moving Average', linewidth=2)\n",
    "    \n",
    "    # Add labels and title\n",
    "    plt.xlabel('Day')\n",
    "    plt.ylabel('Value')\n",
    "    plt.title('Price and Moving Average')\n",
    "    plt.legend()\n",
    "    \n",
    "    # Show grid and plot\n",
    "    plt.grid(alpha=0.3)\n",
    "    plt.show()\n"
   ]
  }
 ],
 "metadata": {
  "kernelspec": {
   "display_name": ".conda",
   "language": "python",
   "name": "python3"
  },
  "language_info": {
   "name": "python",
   "version": "3.11.11"
  }
 },
 "nbformat": 4,
 "nbformat_minor": 2
}
